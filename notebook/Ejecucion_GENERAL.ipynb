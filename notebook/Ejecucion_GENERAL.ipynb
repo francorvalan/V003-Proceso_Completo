{
 "cells": [
  {
   "attachments": {},
   "cell_type": "markdown",
   "id": "aca2d0bd",
   "metadata": {},
   "source": [
    "# Ejecucion general"
   ]
  },
  {
   "cell_type": "code",
   "execution_count": 10,
   "id": "428b6f78",
   "metadata": {
    "scrolled": true
   },
   "outputs": [],
   "source": [
    "import sys\n",
    "sys.path.append('../')\n",
    "# Importación de funciones\n",
    "from funciones_G1 import *\n",
    "from funciones_G2 import *\n",
    "from funciones_G4 import *"
   ]
  },
  {
   "cell_type": "code",
   "execution_count": 11,
   "id": "e3171ed3",
   "metadata": {},
   "outputs": [],
   "source": [
    "import datetime\n",
    "start = datetime.datetime.utcnow() - datetime.timedelta(hours=5)\n",
    "end = datetime.datetime.utcnow()"
   ]
  },
  {
   "cell_type": "code",
   "execution_count": 12,
   "id": "8598c7ed",
   "metadata": {},
   "outputs": [],
   "source": [
    "crear_carpetas() # Hay que tener el archivo aoi_shp en la carpeta /original_data/vectorial"
   ]
  },
  {
   "cell_type": "code",
   "execution_count": 13,
   "id": "a5a607fd",
   "metadata": {},
   "outputs": [
    {
     "name": "stdout",
     "output_type": "stream",
     "text": [
      "** Iniciando la descarga de GOES **\n",
      "    - [!] La imagen del 2022-12-15 21:00 UTC+0 no está disponible para la descarga.\n"
     ]
    }
   ],
   "source": [
    "descarga_goes(start=start, end=end)"
   ]
  },
  {
   "cell_type": "code",
   "execution_count": 14,
   "id": "68aa9573",
   "metadata": {},
   "outputs": [
    {
     "name": "stdout",
     "output_type": "stream",
     "text": [
      "[!] No hay imagenes GFS nuevas para descargar\n"
     ]
    }
   ],
   "source": [
    "descarga_gfs(start=start, end=end)"
   ]
  },
  {
   "cell_type": "code",
   "execution_count": 15,
   "id": "126d3662",
   "metadata": {},
   "outputs": [
    {
     "name": "stdout",
     "output_type": "stream",
     "text": [
      "** Inicio de procesamiento GFS **\n",
      "  - [!] No hay nuevas imagenes para procesar\n"
     ]
    }
   ],
   "source": [
    "procesamiento_gfs()"
   ]
  },
  {
   "cell_type": "code",
   "execution_count": 16,
   "id": "280f4251",
   "metadata": {},
   "outputs": [
    {
     "name": "stdout",
     "output_type": "stream",
     "text": [
      "** Inicio de procesamiento GOES **\n",
      "  - [!] No hay nuevas imagenes para procesar\n"
     ]
    }
   ],
   "source": [
    "procesamiento_goes()"
   ]
  },
  {
   "cell_type": "code",
   "execution_count": 17,
   "id": "a7c0c88b",
   "metadata": {},
   "outputs": [
    {
     "name": "stdout",
     "output_type": "stream",
     "text": [
      "No hay imagenes para procesar\n"
     ]
    }
   ],
   "source": [
    "proceso_grupo2()"
   ]
  },
  {
   "cell_type": "code",
   "execution_count": 18,
   "id": "e5ca1a8b",
   "metadata": {},
   "outputs": [
    {
     "name": "stdout",
     "output_type": "stream",
     "text": [
      "[!] Faltan las imagenes de los días ['2022121412', '2022121413', '2022121414', '2022121415', '2022121416'] para poder realizar la tarea\n",
      "[!] No hay imagenes nuevas para crear\n"
     ]
    }
   ],
   "source": [
    "hha()"
   ]
  }
 ],
 "metadata": {
  "kernelspec": {
   "display_name": "heladas",
   "language": "python",
   "name": "python3"
  },
  "language_info": {
   "codemirror_mode": {
    "name": "ipython",
    "version": 3
   },
   "file_extension": ".py",
   "mimetype": "text/x-python",
   "name": "python",
   "nbconvert_exporter": "python",
   "pygments_lexer": "ipython3",
   "version": "3.10.8"
  },
  "vscode": {
   "interpreter": {
    "hash": "899753f228bd9d03b9979e9f7e988e90db275faeeb2b4a08d5620203c92ffa72"
   }
  }
 },
 "nbformat": 4,
 "nbformat_minor": 5
}
